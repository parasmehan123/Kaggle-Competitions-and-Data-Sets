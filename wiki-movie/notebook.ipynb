{
 "cells": [
  {
   "cell_type": "markdown",
   "metadata": {},
   "source": [
    "# Data pre-processing"
   ]
  },
  {
   "cell_type": "code",
   "execution_count": 1,
   "metadata": {},
   "outputs": [],
   "source": [
    "import pandas as pd"
   ]
  },
  {
   "cell_type": "code",
   "execution_count": 2,
   "metadata": {},
   "outputs": [],
   "source": [
    "data=pd.read_csv('wiki_movie_plots_deduped.csv',usecols=['Plot']).values.tolist()"
   ]
  },
  {
   "cell_type": "code",
   "execution_count": 3,
   "metadata": {},
   "outputs": [
    {
     "name": "stdout",
     "output_type": "stream",
     "text": [
      "34886\n"
     ]
    },
    {
     "data": {
      "text/plain": [
       "['Alice follows a large white rabbit down a \"Rabbit-hole\". She finds a tiny door. When she finds a bottle labeled \"Drink me\", she does, and shrinks, but not enough to pass through the door. She then eats something labeled \"Eat me\" and grows larger. She finds a fan when enables her to shrink enough to get into the \"Garden\" and try to get a \"Dog\" to play with her. She enters the \"White Rabbit\\'s tiny House,\" but suddenly resumes her normal size. In order to get out, she has to use the \"magic fan.\"\\r\\nShe enters a kitchen, in which there is a cook and a woman holding a baby. She persuades the woman to give her the child and takes the infant outside after the cook starts throwing things around. The baby then turns into a pig and squirms out of her grip. \"The Duchess\\'s Cheshire Cat\" appears and disappears a couple of times to Alice and directs her to the Mad Hatter\\'s \"Mad Tea-Party.\" After a while, she leaves.\\r\\nThe Queen invites Alice to join the \"ROYAL PROCESSION\": a parade of marching playing cards and others headed by the White Rabbit. When Alice \"unintentionally offends the Queen\", the latter summons the \"Executioner\". Alice \"boxes the ears\", then flees when all the playing cards come for her. Then she wakes up and realizes it was all a dream.']"
      ]
     },
     "execution_count": 3,
     "metadata": {},
     "output_type": "execute_result"
    }
   ],
   "source": [
    "print(len(data))\n",
    "data[5]\n"
   ]
  },
  {
   "cell_type": "code",
   "execution_count": 4,
   "metadata": {},
   "outputs": [],
   "source": [
    "for i in range(len(data)):\n",
    "    data[i]=data[i][0].lower()"
   ]
  },
  {
   "cell_type": "code",
   "execution_count": 5,
   "metadata": {},
   "outputs": [
    {
     "data": {
      "text/plain": [
       "'alice follows a large white rabbit down a \"rabbit-hole\". she finds a tiny door. when she finds a bottle labeled \"drink me\", she does, and shrinks, but not enough to pass through the door. she then eats something labeled \"eat me\" and grows larger. she finds a fan when enables her to shrink enough to get into the \"garden\" and try to get a \"dog\" to play with her. she enters the \"white rabbit\\'s tiny house,\" but suddenly resumes her normal size. in order to get out, she has to use the \"magic fan.\"\\r\\nshe enters a kitchen, in which there is a cook and a woman holding a baby. she persuades the woman to give her the child and takes the infant outside after the cook starts throwing things around. the baby then turns into a pig and squirms out of her grip. \"the duchess\\'s cheshire cat\" appears and disappears a couple of times to alice and directs her to the mad hatter\\'s \"mad tea-party.\" after a while, she leaves.\\r\\nthe queen invites alice to join the \"royal procession\": a parade of marching playing cards and others headed by the white rabbit. when alice \"unintentionally offends the queen\", the latter summons the \"executioner\". alice \"boxes the ears\", then flees when all the playing cards come for her. then she wakes up and realizes it was all a dream.'"
      ]
     },
     "execution_count": 5,
     "metadata": {},
     "output_type": "execute_result"
    }
   ],
   "source": [
    "data[5]"
   ]
  },
  {
   "cell_type": "code",
   "execution_count": 6,
   "metadata": {},
   "outputs": [],
   "source": [
    "import re\n",
    "# %load appos.py\n",
    "appos = {\n",
    "\"aren't\" : \"are not\",\n",
    "\"can't\" : \"cannot\",\n",
    "\"couldn't\" : \"could not\",\n",
    "\"didn't\" : \"did not\",\n",
    "\"doesn't\" : \"does not\",\n",
    "\"don't\" : \"do not\",\n",
    "\"hadn't\" : \"had not\",\n",
    "\"hasn't\" : \"has not\",\n",
    "\"haven't\" : \"have not\",\n",
    "\"he'd\" : \"he would\",\n",
    "\"he'll\" : \"he will\",\n",
    "\"he's\" : \"he is\",\n",
    "\"i'd\" : \"I would\",\n",
    "\"i'd\" : \"I had\",\n",
    "\"i'll\" : \"I will\",\n",
    "\"i'm\" : \"I am\",\n",
    "\"isn't\" : \"is not\",\n",
    "\"it's\" : \"it is\",\n",
    "\"it'll\":\"it will\",\n",
    "\"i've\" : \"I have\",\n",
    "\"let's\" : \"let us\",\n",
    "\"mightn't\" : \"might not\",\n",
    "\"mustn't\" : \"must not\",\n",
    "\"shan't\" : \"shall not\",\n",
    "\"she'd\" : \"she would\",\n",
    "\"she'll\" : \"she will\",\n",
    "\"she's\" : \"she is\",\n",
    "\"shouldn't\" : \"should not\",\n",
    "\"that's\" : \"that is\",\n",
    "\"there's\" : \"there is\",\n",
    "\"they'd\" : \"they would\",\n",
    "\"they'll\" : \"they will\",\n",
    "\"they're\" : \"they are\",\n",
    "\"they've\" : \"they have\",\n",
    "\"we'd\" : \"we would\",\n",
    "\"we're\" : \"we are\",\n",
    "\"weren't\" : \"were not\",\n",
    "\"we've\" : \"we have\",\n",
    "\"what'll\" : \"what will\",\n",
    "\"what're\" : \"what are\",\n",
    "\"what's\" : \"what is\",\n",
    "\"what've\" : \"what have\",\n",
    "\"where's\" : \"where is\",\n",
    "\"who'd\" : \"who would\",\n",
    "\"who'll\" : \"who will\",\n",
    "\"who're\" : \"who are\",\n",
    "\"who's\" : \"who is\",\n",
    "\"who've\" : \"who have\",\n",
    "\"won't\" : \"will not\",\n",
    "\"wouldn't\" : \"would not\",\n",
    "\"you'd\" : \"you would\",\n",
    "\"you'll\" : \"you will\",\n",
    "\"you're\" : \"you are\",\n",
    "\"you've\" : \"you have\",\n",
    "\"'re\": \" are\",\n",
    "\"wasn't\": \"was not\",\n",
    "\"we'll\":\" will\",\n",
    "\"didn't\": \"did not\",\n",
    "\"aren't\": \"are not\",\n",
    "\"can't\": \"cannot\", \n",
    "\"'cause\": \"because\", \n",
    "\"could've\": \"could have\",\n",
    " \"couldn't\": \"could not\", \n",
    "\"didn't\": \"did not\", \n",
    " \"doesn't\": \"does not\", \n",
    "\"don't\": \"do not\",\n",
    " \"hadn't\": \"had not\", \n",
    "\"hasn't\": \"has not\",\n",
    " \"haven't\": \"have not\", \n",
    "\"he'd\": \"he would\",\n",
    "\"he'll\": \"he will\", \n",
    "\"he's\": \"he is\", \n",
    "\"how'd\": \"how did\", \n",
    "\"how'd'y\": \"how do you\", \n",
    "\"how'll\": \"how will\", \n",
    "\"how's\": \"how is\", \n",
    " \"I'd\": \"I would\",\n",
    " \"I'd've\": \"I would have\", \n",
    "\"I'll\": \"I will\", \n",
    "\"I'll've\": \"I will have\",\n",
    "\"I'm\": \"I am\", \n",
    "\"I've\": \"I have\",\n",
    "\"i'd\": \"i would\", \n",
    "\"i'd've\": \"i would have\", \n",
    "\"i'll\": \"i will\", \n",
    " \"i'll've\": \"i will have\",\n",
    "\"i'm\": \"i am\", \n",
    "\"i've\": \"i have\", \n",
    "\"isn't\": \"is not\", \n",
    "\"it'd\": \"it would\", \n",
    "\"it'd've\": \"it would have\", \n",
    "\"it'll\": \"it will\",\n",
    "\"it'll've\": \"it will have\",\n",
    "\"it's\": \"it is\",\n",
    "\"let's\": \"let us\", \n",
    "\"ma'am\": \"madam\",\n",
    " \"mayn't\": \"may not\", \n",
    "\"might've\": \"might have\",\n",
    "\"mightn't\": \"might not\",\n",
    "\"mightn't've\": \"might not have\", \n",
    "\"must've\": \"must have\", \n",
    "\"mustn't\": \"must not\", \n",
    "\"mustn't've\": \"must not have\", \n",
    "\"needn't\": \"need not\", \n",
    "\"needn't've\": \"need not have\",\n",
    "\"o'clock\": \"of the clock\",\n",
    "\"oughtn't\": \"ought not\",\n",
    "\"oughtn't've\": \"ought not have\", \n",
    "\"shan't\": \"shall not\", \n",
    "\"sha'n't\": \"shall not\", \n",
    "\"shan't've\": \"shall not have\",\n",
    "\"she'd\": \"she would\",\n",
    "\"she'd've\": \"she would have\",\n",
    "\"she'll\": \"she will\", \n",
    "\"she'll've\": \"she will have\", \n",
    "\"she's\": \"she is\", \n",
    "\"should've\": \"should have\", \n",
    "\"shouldn't\": \"should not\", \n",
    "\"shouldn't've\": \"should not have\", \n",
    "\"so've\": \"so have\",\"so's\": \"so as\", \n",
    "\"this's\": \"this is\",\n",
    "\"that'd\": \"that would\", \n",
    "\"that'd've\": \"that would have\", \n",
    "\"that's\": \"that is\", \n",
    "\"there'd\": \"there would\", \n",
    "\"there'd've\": \"there would have\", \n",
    "\"there's\": \"there is\", \n",
    "\"here's\": \"here is\",\n",
    "\"they'd\": \"they would\", \n",
    "\"they'd've\": \"they would have\", \n",
    "\"they'll\": \"they will\", \n",
    "\"they'll've\": \"they will have\", \n",
    "\"they're\": \"they are\", \n",
    "\"they've\": \"they have\", \n",
    "\"to've\": \"to have\", \n",
    "\"wasn't\": \"was not\", \n",
    "\"we'd\": \"we would\", \n",
    "\"we'd've\": \"we would have\", \n",
    "\"we'll\": \"we will\", \n",
    "\"we'll've\": \"we will have\", \n",
    "\"we're\": \"we are\", \n",
    "\"we've\": \"we have\", \n",
    "\"weren't\": \"were not\", \n",
    "\"what'll\": \"what will\", \n",
    "\"what'll've\": \"what will have\", \n",
    "\"what're\": \"what are\",  \n",
    "\"what's\": \"what is\", \n",
    "\"what've\": \"what have\", \n",
    "\"when's\": \"when is\", \n",
    "\"when've\": \"when have\", \n",
    "\"where'd\": \"where did\", \n",
    "\"where's\": \"where is\", \n",
    "\"where've\": \"where have\", \n",
    "\"who'll\": \"who will\", \n",
    "\"who'll've\": \"who will have\", \n",
    "\"who's\": \"who is\",\n",
    "\"who've\": \"who have\", \n",
    "\"why's\": \"why is\", \n",
    "\"why've\": \"why have\", \n",
    "\"will've\": \"will have\", \n",
    "\"won't\": \"will not\", \n",
    "\"won't've\": \"will not have\", \n",
    "\"would've\": \"would have\", \n",
    "\"wouldn't\": \"would not\", \n",
    "\"wouldn't've\": \"would not have\", \n",
    "\"y'all\": \"you all\", \n",
    "\"y'all'd\": \"you all would\",\n",
    "\"y'all'd've\": \"you all would have\",\n",
    "\"y'all're\": \"you all are\",\n",
    "\"y'all've\": \"you all have\",\n",
    "\"you'd\": \"you would\", \n",
    "\"you'd've\": \"you would have\", \n",
    "\"you'll\": \"you will\", \n",
    "\"you'll've\": \n",
    "\"you will have\", \n",
    "\"you're\": \"you are\", \n",
    "\"you've\": \"you have\"\n",
    "}\n",
    "def expand_contract(text):\n",
    "    tokens=text.split()\n",
    "    contract=[appos[word] if word in appos else word for word in tokens]\n",
    "    answer=' '.join(contract)\n",
    "    return answer"
   ]
  },
  {
   "cell_type": "code",
   "execution_count": 7,
   "metadata": {},
   "outputs": [],
   "source": [
    "for i in range(len(data)):\n",
    "    data[i]=expand_contract(data[i])"
   ]
  },
  {
   "cell_type": "code",
   "execution_count": 8,
   "metadata": {},
   "outputs": [
    {
     "data": {
      "text/plain": [
       "'the rarebit fiend gorges on welsh rarebit at a restaurant. when he leaves, he begins to get dizzy as he starts to hallucinate. he desperately tries to hang onto a lamppost as the world spins all around him. a man helps him get home. he falls into bed and begins having more hallucinatory dreams. during a dream sequence, the furniture begins moving around the room. imps emerge from a floating welsh rarebit container and begin poking his head as he sleeps. his bed then begins dancing and spinning wildly around the room before flying out the window with the fiend in it. the bed floats across the city as the fiend floats up and off the bed. he hangs off the back and eventually gets caught on a weathervane atop a steeple. his bedclothes tear and he falls from the sky, crashing through his bedroom ceiling. the fiend awakens from the dream after falling out of his bed.'"
      ]
     },
     "execution_count": 8,
     "metadata": {},
     "output_type": "execute_result"
    }
   ],
   "source": [
    "data[10]"
   ]
  },
  {
   "cell_type": "code",
   "execution_count": 9,
   "metadata": {},
   "outputs": [
    {
     "name": "stderr",
     "output_type": "stream",
     "text": [
      "[nltk_data] Downloading package punkt to\n",
      "[nltk_data]     /home/parasmehan123/nltk_data...\n",
      "[nltk_data]   Package punkt is already up-to-date!\n"
     ]
    }
   ],
   "source": [
    "from nltk.tokenize import word_tokenize\n",
    "import nltk\n",
    "nltk.download('punkt')\n",
    "def tokenize_word(data):\n",
    "    words=word_tokenize(data)\n",
    "    return words"
   ]
  },
  {
   "cell_type": "code",
   "execution_count": 10,
   "metadata": {},
   "outputs": [],
   "source": [
    "for i in range(len(data)):\n",
    "    data[i]=tokenize_word(data[i])"
   ]
  },
  {
   "cell_type": "code",
   "execution_count": 11,
   "metadata": {},
   "outputs": [
    {
     "data": {
      "text/plain": [
       "['alice',\n",
       " 'follows',\n",
       " 'a',\n",
       " 'large',\n",
       " 'white',\n",
       " 'rabbit',\n",
       " 'down',\n",
       " 'a',\n",
       " '``',\n",
       " 'rabbit-hole',\n",
       " \"''\",\n",
       " '.',\n",
       " 'she',\n",
       " 'finds',\n",
       " 'a',\n",
       " 'tiny',\n",
       " 'door',\n",
       " '.',\n",
       " 'when',\n",
       " 'she',\n",
       " 'finds',\n",
       " 'a',\n",
       " 'bottle',\n",
       " 'labeled',\n",
       " '``',\n",
       " 'drink',\n",
       " 'me',\n",
       " \"''\",\n",
       " ',',\n",
       " 'she',\n",
       " 'does',\n",
       " ',',\n",
       " 'and',\n",
       " 'shrinks',\n",
       " ',',\n",
       " 'but',\n",
       " 'not',\n",
       " 'enough',\n",
       " 'to',\n",
       " 'pass',\n",
       " 'through',\n",
       " 'the',\n",
       " 'door',\n",
       " '.',\n",
       " 'she',\n",
       " 'then',\n",
       " 'eats',\n",
       " 'something',\n",
       " 'labeled',\n",
       " '``',\n",
       " 'eat',\n",
       " 'me',\n",
       " \"''\",\n",
       " 'and',\n",
       " 'grows',\n",
       " 'larger',\n",
       " '.',\n",
       " 'she',\n",
       " 'finds',\n",
       " 'a',\n",
       " 'fan',\n",
       " 'when',\n",
       " 'enables',\n",
       " 'her',\n",
       " 'to',\n",
       " 'shrink',\n",
       " 'enough',\n",
       " 'to',\n",
       " 'get',\n",
       " 'into',\n",
       " 'the',\n",
       " '``',\n",
       " 'garden',\n",
       " \"''\",\n",
       " 'and',\n",
       " 'try',\n",
       " 'to',\n",
       " 'get',\n",
       " 'a',\n",
       " '``',\n",
       " 'dog',\n",
       " \"''\",\n",
       " 'to',\n",
       " 'play',\n",
       " 'with',\n",
       " 'her',\n",
       " '.',\n",
       " 'she',\n",
       " 'enters',\n",
       " 'the',\n",
       " '``',\n",
       " 'white',\n",
       " 'rabbit',\n",
       " \"'s\",\n",
       " 'tiny',\n",
       " 'house',\n",
       " ',',\n",
       " \"''\",\n",
       " 'but',\n",
       " 'suddenly',\n",
       " 'resumes',\n",
       " 'her',\n",
       " 'normal',\n",
       " 'size',\n",
       " '.',\n",
       " 'in',\n",
       " 'order',\n",
       " 'to',\n",
       " 'get',\n",
       " 'out',\n",
       " ',',\n",
       " 'she',\n",
       " 'has',\n",
       " 'to',\n",
       " 'use',\n",
       " 'the',\n",
       " '``',\n",
       " 'magic',\n",
       " 'fan',\n",
       " '.',\n",
       " \"''\",\n",
       " 'she',\n",
       " 'enters',\n",
       " 'a',\n",
       " 'kitchen',\n",
       " ',',\n",
       " 'in',\n",
       " 'which',\n",
       " 'there',\n",
       " 'is',\n",
       " 'a',\n",
       " 'cook',\n",
       " 'and',\n",
       " 'a',\n",
       " 'woman',\n",
       " 'holding',\n",
       " 'a',\n",
       " 'baby',\n",
       " '.',\n",
       " 'she',\n",
       " 'persuades',\n",
       " 'the',\n",
       " 'woman',\n",
       " 'to',\n",
       " 'give',\n",
       " 'her',\n",
       " 'the',\n",
       " 'child',\n",
       " 'and',\n",
       " 'takes',\n",
       " 'the',\n",
       " 'infant',\n",
       " 'outside',\n",
       " 'after',\n",
       " 'the',\n",
       " 'cook',\n",
       " 'starts',\n",
       " 'throwing',\n",
       " 'things',\n",
       " 'around',\n",
       " '.',\n",
       " 'the',\n",
       " 'baby',\n",
       " 'then',\n",
       " 'turns',\n",
       " 'into',\n",
       " 'a',\n",
       " 'pig',\n",
       " 'and',\n",
       " 'squirms',\n",
       " 'out',\n",
       " 'of',\n",
       " 'her',\n",
       " 'grip',\n",
       " '.',\n",
       " '``',\n",
       " 'the',\n",
       " 'duchess',\n",
       " \"'s\",\n",
       " 'cheshire',\n",
       " 'cat',\n",
       " \"''\",\n",
       " 'appears',\n",
       " 'and',\n",
       " 'disappears',\n",
       " 'a',\n",
       " 'couple',\n",
       " 'of',\n",
       " 'times',\n",
       " 'to',\n",
       " 'alice',\n",
       " 'and',\n",
       " 'directs',\n",
       " 'her',\n",
       " 'to',\n",
       " 'the',\n",
       " 'mad',\n",
       " 'hatter',\n",
       " \"'s\",\n",
       " '``',\n",
       " 'mad',\n",
       " 'tea-party',\n",
       " '.',\n",
       " \"''\",\n",
       " 'after',\n",
       " 'a',\n",
       " 'while',\n",
       " ',',\n",
       " 'she',\n",
       " 'leaves',\n",
       " '.',\n",
       " 'the',\n",
       " 'queen',\n",
       " 'invites',\n",
       " 'alice',\n",
       " 'to',\n",
       " 'join',\n",
       " 'the',\n",
       " '``',\n",
       " 'royal',\n",
       " 'procession',\n",
       " \"''\",\n",
       " ':',\n",
       " 'a',\n",
       " 'parade',\n",
       " 'of',\n",
       " 'marching',\n",
       " 'playing',\n",
       " 'cards',\n",
       " 'and',\n",
       " 'others',\n",
       " 'headed',\n",
       " 'by',\n",
       " 'the',\n",
       " 'white',\n",
       " 'rabbit',\n",
       " '.',\n",
       " 'when',\n",
       " 'alice',\n",
       " '``',\n",
       " 'unintentionally',\n",
       " 'offends',\n",
       " 'the',\n",
       " 'queen',\n",
       " \"''\",\n",
       " ',',\n",
       " 'the',\n",
       " 'latter',\n",
       " 'summons',\n",
       " 'the',\n",
       " '``',\n",
       " 'executioner',\n",
       " \"''\",\n",
       " '.',\n",
       " 'alice',\n",
       " '``',\n",
       " 'boxes',\n",
       " 'the',\n",
       " 'ears',\n",
       " \"''\",\n",
       " ',',\n",
       " 'then',\n",
       " 'flees',\n",
       " 'when',\n",
       " 'all',\n",
       " 'the',\n",
       " 'playing',\n",
       " 'cards',\n",
       " 'come',\n",
       " 'for',\n",
       " 'her',\n",
       " '.',\n",
       " 'then',\n",
       " 'she',\n",
       " 'wakes',\n",
       " 'up',\n",
       " 'and',\n",
       " 'realizes',\n",
       " 'it',\n",
       " 'was',\n",
       " 'all',\n",
       " 'a',\n",
       " 'dream',\n",
       " '.']"
      ]
     },
     "execution_count": 11,
     "metadata": {},
     "output_type": "execute_result"
    }
   ],
   "source": [
    "data[5]"
   ]
  },
  {
   "cell_type": "code",
   "execution_count": 12,
   "metadata": {},
   "outputs": [
    {
     "name": "stderr",
     "output_type": "stream",
     "text": [
      "[nltk_data] Downloading package stopwords to\n",
      "[nltk_data]     /home/parasmehan123/nltk_data...\n",
      "[nltk_data]   Package stopwords is already up-to-date!\n"
     ]
    }
   ],
   "source": [
    "from nltk.corpus import stopwords \n",
    "nltk.download('stopwords')\n",
    "stop_words = set(stopwords.words(\"english\"))\n",
    "def stopwords_removal(tokens):\n",
    "    filtered_sentence = [w for w in tokens if not w in stop_words]              \n",
    "    final=' '.join(filtered_sentence)\n",
    "    return final\n"
   ]
  },
  {
   "cell_type": "code",
   "execution_count": 13,
   "metadata": {},
   "outputs": [],
   "source": [
    "for i in range(len(data)):\n",
    "    data[i]=stopwords_removal(data[i])"
   ]
  },
  {
   "cell_type": "code",
   "execution_count": 14,
   "metadata": {},
   "outputs": [
    {
     "data": {
      "text/plain": [
       "\"alice follows large white rabbit `` rabbit-hole '' . finds tiny door . finds bottle labeled `` drink '' , , shrinks , enough pass door . eats something labeled `` eat '' grows larger . finds fan enables shrink enough get `` garden '' try get `` dog '' play . enters `` white rabbit 's tiny house , '' suddenly resumes normal size . order get , use `` magic fan . '' enters kitchen , cook woman holding baby . persuades woman give child takes infant outside cook starts throwing things around . baby turns pig squirms grip . `` duchess 's cheshire cat '' appears disappears couple times alice directs mad hatter 's `` mad tea-party . '' , leaves . queen invites alice join `` royal procession '' : parade marching playing cards others headed white rabbit . alice `` unintentionally offends queen '' , latter summons `` executioner '' . alice `` boxes ears '' , flees playing cards come . wakes realizes dream .\""
      ]
     },
     "execution_count": 14,
     "metadata": {},
     "output_type": "execute_result"
    }
   ],
   "source": [
    "data[5]"
   ]
  },
  {
   "cell_type": "code",
   "execution_count": 15,
   "metadata": {},
   "outputs": [],
   "source": [
    "import string\n",
    "def remove_punctuation(text):\n",
    "    obj=str.maketrans('', '',string.punctuation)\n",
    "    answer=text.translate(obj)\n",
    "    return answer"
   ]
  },
  {
   "cell_type": "code",
   "execution_count": 16,
   "metadata": {},
   "outputs": [],
   "source": [
    "for i in range(len(data)):\n",
    "    data[i]=remove_punctuation(data[i])"
   ]
  },
  {
   "cell_type": "code",
   "execution_count": 17,
   "metadata": {},
   "outputs": [
    {
     "data": {
      "text/plain": [
       "'alice follows large white rabbit  rabbithole   finds tiny door  finds bottle labeled  drink    shrinks  enough pass door  eats something labeled  eat  grows larger  finds fan enables shrink enough get  garden  try get  dog  play  enters  white rabbit s tiny house   suddenly resumes normal size  order get  use  magic fan   enters kitchen  cook woman holding baby  persuades woman give child takes infant outside cook starts throwing things around  baby turns pig squirms grip   duchess s cheshire cat  appears disappears couple times alice directs mad hatter s  mad teaparty    leaves  queen invites alice join  royal procession   parade marching playing cards others headed white rabbit  alice  unintentionally offends queen   latter summons  executioner   alice  boxes ears   flees playing cards come  wakes realizes dream '"
      ]
     },
     "execution_count": 17,
     "metadata": {},
     "output_type": "execute_result"
    }
   ],
   "source": [
    "data[5]"
   ]
  },
  {
   "cell_type": "code",
   "execution_count": 18,
   "metadata": {},
   "outputs": [
    {
     "name": "stderr",
     "output_type": "stream",
     "text": [
      "[nltk_data] Downloading package wordnet to\n",
      "[nltk_data]     /home/parasmehan123/nltk_data...\n",
      "[nltk_data]   Package wordnet is already up-to-date!\n"
     ]
    }
   ],
   "source": [
    "from nltk.stem import WordNetLemmatizer\n",
    "nltk.download('wordnet')\n",
    "def simple_lemma(data):\n",
    "    lemmatizer = WordNetLemmatizer()\n",
    "    filtered=[lemmatizer.lemmatize(word) for word in data.split()]\n",
    "    text = ' '.join(filtered)\n",
    "    return text"
   ]
  },
  {
   "cell_type": "code",
   "execution_count": 19,
   "metadata": {},
   "outputs": [],
   "source": [
    "for i in range(len(data)):\n",
    "    data[i]=simple_lemma(data[i])"
   ]
  },
  {
   "cell_type": "code",
   "execution_count": 20,
   "metadata": {},
   "outputs": [
    {
     "data": {
      "text/plain": [
       "'alice follows large white rabbit rabbithole find tiny door find bottle labeled drink shrink enough pas door eats something labeled eat grows larger find fan enables shrink enough get garden try get dog play enters white rabbit s tiny house suddenly resume normal size order get use magic fan enters kitchen cook woman holding baby persuades woman give child take infant outside cook start throwing thing around baby turn pig squirm grip duchess s cheshire cat appears disappears couple time alice directs mad hatter s mad teaparty leaf queen invite alice join royal procession parade marching playing card others headed white rabbit alice unintentionally offends queen latter summons executioner alice box ear flees playing card come wake realizes dream'"
      ]
     },
     "execution_count": 20,
     "metadata": {},
     "output_type": "execute_result"
    }
   ],
   "source": [
    "data[5]"
   ]
  },
  {
   "cell_type": "code",
   "execution_count": null,
   "metadata": {},
   "outputs": [],
   "source": []
  },
  {
   "cell_type": "code",
   "execution_count": null,
   "metadata": {},
   "outputs": [],
   "source": []
  }
 ],
 "metadata": {
  "kernelspec": {
   "display_name": "Python (ai_summer_school)",
   "language": "python",
   "name": "ai_summer_school"
  },
  "language_info": {
   "codemirror_mode": {
    "name": "ipython",
    "version": 3
   },
   "file_extension": ".py",
   "mimetype": "text/x-python",
   "name": "python",
   "nbconvert_exporter": "python",
   "pygments_lexer": "ipython3",
   "version": "3.7.3"
  }
 },
 "nbformat": 4,
 "nbformat_minor": 2
}
